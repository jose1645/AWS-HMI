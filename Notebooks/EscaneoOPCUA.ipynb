{
 "cells": [
  {
   "cell_type": "markdown",
   "metadata": {},
   "source": [
    "# OPC UA SERVER HMI DELTA DOP100WS"
   ]
  },
  {
   "cell_type": "markdown",
   "metadata": {},
   "source": [
    "## Exploracion inicial"
   ]
  },
  {
   "cell_type": "code",
   "execution_count": 47,
   "metadata": {},
   "outputs": [
    {
     "name": "stderr",
     "output_type": "stream",
     "text": [
      "Requested session timeout to be 3600000ms, got 120000ms instead\n"
     ]
    },
    {
     "name": "stdout",
     "output_type": "stream",
     "text": [
      "Conectado al servidor OPC UA en opc.tcp://192.168.8.89:4840\n",
      "Escaneando nodos bajo ns=0;i=85 (i=85)\n",
      "\n",
      "Nodos escaneados:\n",
      "                         Browse Name                   Node ID  \\\n",
      "0            QualifiedName(0:Server)                    i=2253   \n",
      "1  QualifiedName(1:HMI_DataProvider)  ns=1;s=/HMI_DataProvider   \n",
      "\n",
      "       Display Name  \n",
      "0            Server  \n",
      "1  HMI_DataProvider  \n",
      "Datos de nodos guardados en opcua_nodes.csv\n",
      "Conexión cerrada con el servidor OPC UA\n"
     ]
    }
   ],
   "source": [
    "from opcua import Client\n",
    "import pandas as pd\n",
    "\n",
    "# Conectar al servidor OPC UA\n",
    "def connect_to_server(url):\n",
    "    try:\n",
    "        client = Client(url)\n",
    "        client.connect()\n",
    "        print(f\"Conectado al servidor OPC UA en {url}\")\n",
    "        return client\n",
    "    except Exception as e:\n",
    "        print(f\"Error al conectar con el servidor: {e}\")\n",
    "        return None\n",
    "\n",
    "# Escanear nodos disponibles en el servidor\n",
    "def scan_nodes(client, node_id=\"ns=0;i=85\"):\n",
    "    try:\n",
    "        root_node = client.get_node(node_id)\n",
    "        print(f\"Escaneando nodos bajo {node_id} ({root_node})\")\n",
    "        \n",
    "        children = root_node.get_children()\n",
    "        node_data = []\n",
    "\n",
    "        for child in children:\n",
    "            browse_name = child.get_browse_name()\n",
    "            node_id = child.nodeid.to_string()\n",
    "            display_name = child.get_display_name().Text\n",
    "            node_data.append({\n",
    "                \"Browse Name\": str(browse_name),\n",
    "                \"Node ID\": node_id,\n",
    "                \"Display Name\": display_name\n",
    "            })\n",
    "\n",
    "        df = pd.DataFrame(node_data)\n",
    "        return df\n",
    "\n",
    "    except Exception as e:\n",
    "        print(f\"Error al escanear nodos: {e}\")\n",
    "        return None\n",
    "\n",
    "# Cerrar la conexión con el servidor\n",
    "def disconnect_server(client):\n",
    "    try:\n",
    "        client.disconnect()\n",
    "        print(\"Conexión cerrada con el servidor OPC UA\")\n",
    "    except Exception as e:\n",
    "        print(f\"Error al desconectar del servidor: {e}\")\n",
    "\n",
    "# Parámetros de conexión\n",
    "server_url = \"opc.tcp://192.168.8.89:4840\"\n",
    "\n",
    "# Conectar y escanear\n",
    "client = connect_to_server(server_url)\n",
    "if client:\n",
    "    node_df = scan_nodes(client)\n",
    "    if node_df is not None:\n",
    "        print(\"\\nNodos escaneados:\")\n",
    "        print(node_df)\n",
    "        \n",
    "        # Guardar los nodos en un archivo CSV\n",
    "        output_file = \"opcua_nodes.csv\"\n",
    "        node_df.to_csv(output_file, index=False)\n",
    "        print(f\"Datos de nodos guardados en {output_file}\")\n",
    "\n",
    "    # Desconectar del servidor\n",
    "    disconnect_server(client)\n"
   ]
  },
  {
   "cell_type": "markdown",
   "metadata": {},
   "source": [
    "Del  resultado de la exploracion inicial podemos determinas las siguientes caracteristicas:\n",
    "1. ns=1\n",
    "2. s=/HMI_DataProvider(nodo padre)"
   ]
  },
  {
   "cell_type": "markdown",
   "metadata": {},
   "source": [
    "## Exploracion de nodos hijos"
   ]
  },
  {
   "cell_type": "code",
   "execution_count": 48,
   "metadata": {},
   "outputs": [
    {
     "name": "stderr",
     "output_type": "stream",
     "text": [
      "Requested session timeout to be 3600000ms, got 120000ms instead\n"
     ]
    },
    {
     "name": "stdout",
     "output_type": "stream",
     "text": [
      "Conectado al servidor OPC UA en opc.tcp://192.168.8.89:4840\n",
      "Clase del nodo ns=1;s=/HMI_DataProvider: 1\n",
      "Hijos del nodo ns=1;s=/HMI_DataProvider:\n",
      " - ns=1;s=/HMI_DataProvider/Tag1 (Tag1)\n",
      " - ns=1;s=/HMI_DataProvider/Adquision_datos_electricidad (Adquision_datos_electricidad)\n",
      "Conexión cerrada con el servidor OPC UA\n"
     ]
    }
   ],
   "source": [
    "from opcua import Client\n",
    "\n",
    "# Conectar al servidor OPC UA\n",
    "def connect_to_server(url):\n",
    "    try:\n",
    "        client = Client(url)\n",
    "        client.connect()\n",
    "        print(f\"Conectado al servidor OPC UA en {url}\")\n",
    "        return client\n",
    "    except Exception as e:\n",
    "        print(f\"Error al conectar con el servidor: {e}\")\n",
    "        return None\n",
    "\n",
    "# Leer el valor de un nodo\n",
    "def read_node_value(client, node_id):\n",
    "    try:\n",
    "        node = client.get_node(node_id)\n",
    "        value = node.get_value()\n",
    "        print(f\"Valor del nodo {node_id}: {value}\")\n",
    "        return value\n",
    "    except Exception as e:\n",
    "        print(f\"Error al leer el nodo {node_id}: {e}\")\n",
    "        return None\n",
    "\n",
    "# Cerrar la conexión\n",
    "def disconnect_server(client):\n",
    "    try:\n",
    "        client.disconnect()\n",
    "        print(\"Conexión cerrada con el servidor OPC UA\")\n",
    "    except Exception as e:\n",
    "        print(f\"Error al desconectar del servidor: {e}\")\n",
    "\n",
    "\n",
    "def get_node_info(client, node_id):\n",
    "    try:\n",
    "        node = client.get_node(node_id)\n",
    "        node_class = node.get_node_class()\n",
    "        print(f\"Clase del nodo {node_id}: {node_class}\")\n",
    "        return node_class\n",
    "    except Exception as e:\n",
    "        print(f\"Error al obtener información del nodo {node_id}: {e}\")\n",
    "        \n",
    "        \n",
    "def scan_node_children(client, node_id):\n",
    "    try:\n",
    "        node = client.get_node(node_id)\n",
    "        children = node.get_children()\n",
    "        print(f\"Hijos del nodo {node_id}:\")\n",
    "        for child in children:\n",
    "            print(f\" - {child} ({child.get_display_name().Text})\")\n",
    "        return children\n",
    "    except Exception as e:\n",
    "        print(f\"Error al escanear los hijos del nodo {node_id}: {e}\")\n",
    "        return None\n",
    "\n",
    "\n",
    "# Parámetros de conexión\n",
    "server_url = \"opc.tcp://192.168.8.89:4840\"\n",
    "node_id = \"ns=1;s=/HMI_DataProvider\"  # Reemplazar con el Node ID deseado\n",
    "\n",
    "# Conectar y leer valor del nodo\n",
    "client = connect_to_server(server_url)\n",
    "if client:\n",
    "   # read_node_value(client, node_id)\n",
    "    get_node_info(client,node_id)\n",
    "    scan_node_children(client,node_id)\n",
    "    disconnect_server(client)\n"
   ]
  },
  {
   "cell_type": "markdown",
   "metadata": {},
   "source": [
    "\n",
    "Determinamos que el HMI_DataProvider es un contenedor porque arroja 1\n",
    "`node_class = node.get_node_class()`\n",
    "\n",
    "Si hay hijos de clase Variable (Clase 2):\n",
    "\n",
    "**Verás sus valores impresos en la salida.**\n",
    "\n",
    "Si todos los hijos son Object (Clase 1):\n",
    "\n",
    "**Tendrás que explorar recursivamente hasta encontrar nodos de clase Variable.**\n",
    "\n",
    "Si no hay hijos:\n",
    "\n",
    "**Esto significa que Adquision_datos_electricidad es un contenedor vacío o que el servidor no expone más datos.**\n"
   ]
  },
  {
   "cell_type": "code",
   "execution_count": 61,
   "metadata": {},
   "outputs": [
    {
     "name": "stderr",
     "output_type": "stream",
     "text": [
      "Requested session timeout to be 3600000ms, got 120000ms instead\n"
     ]
    },
    {
     "name": "stdout",
     "output_type": "stream",
     "text": [
      "Conectado al servidor OPC UA en opc.tcp://192.168.8.89:4840\n",
      "Nodo: ns=1;s=/HMI_DataProvider/Tag1 (Tag1) -> Valor: False\n",
      "Error al leer el nodo ns=1;s=/HMI_DataProvider/Adquision_datos_electricidad: \"The attribute is not supported for the specified Node.\"(BadAttributeIdInvalid)\n",
      "Conexión cerrada con el servidor OPC UA\n"
     ]
    }
   ],
   "source": [
    "# Leer valores de los hijos del nodo\n",
    "def read_child_nodes(client, parent_node_id):\n",
    "    try:\n",
    "        parent_node = client.get_node(parent_node_id)\n",
    "        children = parent_node.get_children()\n",
    "        \n",
    "        for child in children:\n",
    "            try:\n",
    "                node_id = child.nodeid.to_string()\n",
    "                value = child.get_value()\n",
    "                display_name = child.get_display_name().Text\n",
    "                print(f\"Nodo: {node_id} ({display_name}) -> Valor: {value}\")\n",
    "            except Exception as e:\n",
    "                print(f\"Error al leer el nodo {node_id}: {e}\")\n",
    "    except Exception as e:\n",
    "        print(f\"Error al escanear los hijos del nodo {parent_node_id}: {e}\")\n",
    "\n",
    "# Conectar al servidor y leer hijos\n",
    "client = connect_to_server(server_url)\n",
    "if client:\n",
    "    read_child_nodes(client, \"ns=1;s=/HMI_DataProvider\")\n",
    "    disconnect_server(client)\n"
   ]
  },
  {
   "cell_type": "markdown",
   "metadata": {},
   "source": [
    "Error por que Adquision_datos_electricidad no es un tag, **es un contenedor**"
   ]
  },
  {
   "cell_type": "code",
   "execution_count": 62,
   "metadata": {},
   "outputs": [
    {
     "name": "stderr",
     "output_type": "stream",
     "text": [
      "Requested session timeout to be 3600000ms, got 120000ms instead\n"
     ]
    },
    {
     "name": "stdout",
     "output_type": "stream",
     "text": [
      "Conectado al servidor OPC UA en opc.tcp://192.168.8.89:4840\n",
      "Clase del nodo ns=1;s=/HMI_DataProvider/Adquision_datos_electricidad: 1\n",
      "Conexión cerrada con el servidor OPC UA\n"
     ]
    }
   ],
   "source": [
    "def get_node_class(client, node_id):\n",
    "    try:\n",
    "        node = client.get_node(node_id)\n",
    "        node_class = node.get_node_class()\n",
    "        print(f\"Clase del nodo {node_id}: {node_class}\")\n",
    "    except Exception as e:\n",
    "        print(f\"Error al obtener la clase del nodo {node_id}: {e}\")\n",
    "\n",
    "# Conectar al servidor y verificar la clase del nodo\n",
    "client = connect_to_server(server_url)\n",
    "if client:\n",
    "    get_node_class(client, \"ns=1;s=/HMI_DataProvider/Adquision_datos_electricidad\")\n",
    "    disconnect_server(client)\n"
   ]
  },
  {
   "cell_type": "markdown",
   "metadata": {},
   "source": [
    "Afirmamos que es un contenedor, Procedemos a buscar los tags(nodos) del contenedor **Adquisicion_datos_electricidad**"
   ]
  },
  {
   "cell_type": "code",
   "execution_count": 63,
   "metadata": {},
   "outputs": [
    {
     "name": "stderr",
     "output_type": "stream",
     "text": [
      "Requested session timeout to be 3600000ms, got 120000ms instead\n"
     ]
    },
    {
     "name": "stdout",
     "output_type": "stream",
     "text": [
      "Conectado al servidor OPC UA en opc.tcp://192.168.8.89:4840\n",
      "Hijos del nodo ns=1;s=/HMI_DataProvider/Adquision_datos_electricidad:\n",
      " - ns=1;s=/HMI_DataProvider/Adquision_datos_electricidad/Consumo_electrico (Consumo_electrico)\n",
      "Conexión cerrada con el servidor OPC UA\n"
     ]
    }
   ],
   "source": [
    "def explore_children(client, node_id):\n",
    "    try:\n",
    "        node = client.get_node(node_id)\n",
    "        children = node.get_children()\n",
    "        print(f\"Hijos del nodo {node_id}:\")\n",
    "        for child in children:\n",
    "            print(f\" - {child.nodeid.to_string()} ({child.get_display_name().Text})\")\n",
    "        return children\n",
    "    except Exception as e:\n",
    "        print(f\"Error al explorar los hijos del nodo {node_id}: {e}\")\n",
    "        return None\n",
    "\n",
    "# Conectar y explorar los hijos del nodo\n",
    "client = connect_to_server(server_url)\n",
    "if client:\n",
    "    explore_children(client, \"ns=1;s=/HMI_DataProvider/Adquision_datos_electricidad\")\n",
    "    disconnect_server(client)\n"
   ]
  },
  {
   "cell_type": "markdown",
   "metadata": {},
   "source": [
    "Quiero suponer que el Consumo_electrico es el nodo final veamos"
   ]
  },
  {
   "cell_type": "code",
   "execution_count": 55,
   "metadata": {},
   "outputs": [
    {
     "name": "stderr",
     "output_type": "stream",
     "text": [
      "Requested session timeout to be 3600000ms, got 120000ms instead\n"
     ]
    },
    {
     "name": "stdout",
     "output_type": "stream",
     "text": [
      "Conectado al servidor OPC UA en opc.tcp://192.168.8.89:4840\n",
      "Clase del nodo ns=1;s=/HMI_DataProvider/Adquision_datos_electricidad/Consumo_electrico: 2\n",
      "Conexión cerrada con el servidor OPC UA\n"
     ]
    }
   ],
   "source": [
    "def get_node_class(client, node_id):\n",
    "    try:\n",
    "        node = client.get_node(node_id)\n",
    "        node_class = node.get_node_class()\n",
    "        print(f\"Clase del nodo {node_id}: {node_class}\")\n",
    "    except Exception as e:\n",
    "        print(f\"Error al obtener la clase del nodo {node_id}: {e}\")\n",
    "\n",
    "# Conectar al servidor y verificar la clase del nodo\n",
    "client = connect_to_server(server_url)\n",
    "if client:\n",
    "    get_node_class(client, \"ns=1;s=/HMI_DataProvider/Adquision_datos_electricidad/Consumo_electrico\")\n",
    "    disconnect_server(client)"
   ]
  },
  {
   "cell_type": "markdown",
   "metadata": {},
   "source": [
    "Es un nodo obtenemos su valor"
   ]
  },
  {
   "cell_type": "code",
   "execution_count": 64,
   "metadata": {},
   "outputs": [
    {
     "name": "stderr",
     "output_type": "stream",
     "text": [
      "Requested session timeout to be 3600000ms, got 120000ms instead\n"
     ]
    },
    {
     "name": "stdout",
     "output_type": "stream",
     "text": [
      "Conectado al servidor OPC UA en opc.tcp://192.168.8.89:4840\n",
      "Clase del nodo ns=1;s=/HMI_DataProvider/Adquision_datos_electricidad: 1\n",
      "Hijos del nodo ns=1;s=/HMI_DataProvider/Adquision_datos_electricidad:\n",
      " - ns=1;s=/HMI_DataProvider/Adquision_datos_electricidad/Consumo_electrico (Consumo_electrico)\n",
      "Nodo: ns=1;s=/HMI_DataProvider/Adquision_datos_electricidad/Consumo_electrico (Consumo_electrico) -> Valor: 1014.1400756835938\n",
      "Conexión cerrada con el servidor OPC UA\n"
     ]
    }
   ],
   "source": [
    "from opcua import Client\n",
    "import pandas as pd\n",
    "\n",
    "# Conectar al servidor OPC UA\n",
    "def connect_to_server(url):\n",
    "    try:\n",
    "        client = Client(url)\n",
    "        client.connect()\n",
    "        print(f\"Conectado al servidor OPC UA en {url}\")\n",
    "        return client\n",
    "    except Exception as e:\n",
    "        print(f\"Error al conectar con el servidor: {e}\")\n",
    "        return None\n",
    "\n",
    "# Cerrar la conexión con el servidor\n",
    "def disconnect_server(client):\n",
    "    try:\n",
    "        client.disconnect()\n",
    "        print(\"Conexión cerrada con el servidor OPC UA\")\n",
    "    except Exception as e:\n",
    "        print(f\"Error al desconectar del servidor: {e}\")\n",
    "\n",
    "# Obtener la clase del nodo\n",
    "def get_node_class(client, node_id):\n",
    "    try:\n",
    "        node = client.get_node(node_id)\n",
    "        node_class = node.get_node_class()\n",
    "        print(f\"Clase del nodo {node_id}: {node_class}\")\n",
    "        return node_class\n",
    "    except Exception as e:\n",
    "        print(f\"Error al obtener la clase del nodo {node_id}: {e}\")\n",
    "        return None\n",
    "\n",
    "# Explorar hijos de un nodo\n",
    "def explore_children(client, node_id):\n",
    "    try:\n",
    "        node = client.get_node(node_id)\n",
    "        children = node.get_children()\n",
    "        print(f\"Hijos del nodo {node_id}:\")\n",
    "        for child in children:\n",
    "            print(f\" - {child.nodeid.to_string()} ({child.get_display_name().Text})\")\n",
    "        return children\n",
    "    except Exception as e:\n",
    "        print(f\"Error al explorar los hijos del nodo {node_id}: {e}\")\n",
    "        return None\n",
    "\n",
    "# Leer el valor de un nodo\n",
    "def read_node_value(client, node_id):\n",
    "    try:\n",
    "        node = client.get_node(node_id)\n",
    "        value = node.get_value()\n",
    "        display_name = node.get_display_name().Text\n",
    "        print(f\"Nodo: {node_id} ({display_name}) -> Valor: {value}\")\n",
    "        return value\n",
    "    except Exception as e:\n",
    "        print(f\"Error al leer el nodo {node_id}: {e}\")\n",
    "        return None\n",
    "\n",
    "# Parámetros de conexión\n",
    "server_url = \"opc.tcp://192.168.8.89:4840\"\n",
    "parent_node_id = \"ns=1;s=/HMI_DataProvider/Adquision_datos_electricidad\"\n",
    "child_node_id = \"ns=1;s=/HMI_DataProvider/Adquision_datos_electricidad/Consumo_electrico\"\n",
    "\n",
    "# Conectar al servidor y realizar operaciones\n",
    "client = connect_to_server(server_url)\n",
    "if client:\n",
    "    # Obtener la clase del nodo principal\n",
    "    get_node_class(client, parent_node_id)\n",
    "    \n",
    "    # Explorar hijos del nodo principal\n",
    "    explore_children(client, parent_node_id)\n",
    "    \n",
    "    # Leer el valor del nodo hijo específico\n",
    "    a=read_node_value(client, child_node_id)\n",
    "    \n",
    "    # Desconectar del servidor\n",
    "    disconnect_server(client)\n"
   ]
  },
  {
   "cell_type": "markdown",
   "metadata": {},
   "source": [
    "Efectivamente obtenemos el dato de electricidad"
   ]
  },
  {
   "cell_type": "code",
   "execution_count": 59,
   "metadata": {},
   "outputs": [
    {
     "name": "stdout",
     "output_type": "stream",
     "text": [
      "<class 'float'>\n"
     ]
    }
   ],
   "source": [
    "print(type(a))"
   ]
  },
  {
   "cell_type": "markdown",
   "metadata": {},
   "source": [
    "es de tipo flotante."
   ]
  },
  {
   "cell_type": "markdown",
   "metadata": {},
   "source": [
    "Ahora la union de todas las partes, quedaria de la siguiente manera para leer un nodo"
   ]
  },
  {
   "cell_type": "code",
   "execution_count": 65,
   "metadata": {},
   "outputs": [
    {
     "name": "stderr",
     "output_type": "stream",
     "text": [
      "Requested session timeout to be 3600000ms, got 120000ms instead\n"
     ]
    },
    {
     "name": "stdout",
     "output_type": "stream",
     "text": [
      "Conectado al servidor OPC UA en opc.tcp://192.168.8.89:4840\n",
      "Clase del nodo ns=1;s=/HMI_DataProvider/Adquision_datos_electricidad: 1\n",
      "Hijos del nodo ns=1;s=/HMI_DataProvider/Adquision_datos_electricidad:\n",
      " - ns=1;s=/HMI_DataProvider/Adquision_datos_electricidad/Consumo_electrico (Consumo_electrico)\n",
      "Nodo: ns=1;s=/HMI_DataProvider/Adquision_datos_electricidad/Consumo_electrico (Consumo_electrico) -> Valor: 1014.1410522460938\n",
      "Conexión cerrada con el servidor OPC UA\n"
     ]
    }
   ],
   "source": [
    "from opcua import Client\n",
    "import pandas as pd\n",
    "\n",
    "# Conectar al servidor OPC UA\n",
    "def connect_to_server(url):\n",
    "    try:\n",
    "        client = Client(url)\n",
    "        client.connect()\n",
    "        print(f\"Conectado al servidor OPC UA en {url}\")\n",
    "        return client\n",
    "    except Exception as e:\n",
    "        print(f\"Error al conectar con el servidor: {e}\")\n",
    "        return None\n",
    "\n",
    "# Cerrar la conexión con el servidor\n",
    "def disconnect_server(client):\n",
    "    try:\n",
    "        client.disconnect()\n",
    "        print(\"Conexión cerrada con el servidor OPC UA\")\n",
    "    except Exception as e:\n",
    "        print(f\"Error al desconectar del servidor: {e}\")\n",
    "\n",
    "# Obtener la clase del nodo\n",
    "def get_node_class(client, node_id):\n",
    "    try:\n",
    "        node = client.get_node(node_id)\n",
    "        node_class = node.get_node_class()\n",
    "        print(f\"Clase del nodo {node_id}: {node_class}\")\n",
    "        return node_class\n",
    "    except Exception as e:\n",
    "        print(f\"Error al obtener la clase del nodo {node_id}: {e}\")\n",
    "        return None\n",
    "\n",
    "# Explorar hijos de un nodo\n",
    "def explore_children(client, node_id):\n",
    "    try:\n",
    "        node = client.get_node(node_id)\n",
    "        children = node.get_children()\n",
    "        print(f\"Hijos del nodo {node_id}:\")\n",
    "        for child in children:\n",
    "            print(f\" - {child.nodeid.to_string()} ({child.get_display_name().Text})\")\n",
    "        return children\n",
    "    except Exception as e:\n",
    "        print(f\"Error al explorar los hijos del nodo {node_id}: {e}\")\n",
    "        return None\n",
    "\n",
    "# Leer el valor de un nodo\n",
    "def read_node_value(client, node_id):\n",
    "    try:\n",
    "        node = client.get_node(node_id)\n",
    "        value = node.get_value()\n",
    "        display_name = node.get_display_name().Text\n",
    "        print(f\"Nodo: {node_id} ({display_name}) -> Valor: {value}\")\n",
    "        return value\n",
    "    except Exception as e:\n",
    "        print(f\"Error al leer el nodo {node_id}: {e}\")\n",
    "        return None\n",
    "\n",
    "# Parámetros de conexión\n",
    "server_url = \"opc.tcp://192.168.8.89:4840\"\n",
    "parent_node_id = \"ns=1;s=/HMI_DataProvider/Adquision_datos_electricidad\"\n",
    "child_node_id = \"ns=1;s=/HMI_DataProvider/Adquision_datos_electricidad/Consumo_electrico\"\n",
    "\n",
    "# Conectar al servidor y realizar operaciones\n",
    "client = connect_to_server(server_url)\n",
    "if client:\n",
    "    # Obtener la clase del nodo principal\n",
    "    get_node_class(client, parent_node_id)\n",
    "    \n",
    "    # Explorar hijos del nodo principal\n",
    "    explore_children(client, parent_node_id)\n",
    "    \n",
    "    # Leer el valor del nodo hijo específico\n",
    "    read_node_value(client, child_node_id)\n",
    "    \n",
    "    # Desconectar del servidor\n",
    "    disconnect_server(client)\n"
   ]
  },
  {
   "cell_type": "markdown",
   "metadata": {},
   "source": [
    "Procedemos a hacer script para leer todos los tags de un nodo"
   ]
  }
 ],
 "metadata": {
  "kernelspec": {
   "display_name": "Python 3",
   "language": "python",
   "name": "python3"
  },
  "language_info": {
   "codemirror_mode": {
    "name": "ipython",
    "version": 3
   },
   "file_extension": ".py",
   "mimetype": "text/x-python",
   "name": "python",
   "nbconvert_exporter": "python",
   "pygments_lexer": "ipython3",
   "version": "3.12.6"
  }
 },
 "nbformat": 4,
 "nbformat_minor": 2
}
